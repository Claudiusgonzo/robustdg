{
 "cells": [
  {
   "cell_type": "markdown",
   "metadata": {},
   "source": [
    "# Reproduction code for MatchDG\n",
    "\n",
    "### Paper: Domain Generalization using Causal Matching [Arxiv](https://arxiv.org/abs/2006.07500)\n",
    "\n",
    "The following code reproduces results for Rotated MNIST and Fashion-MNIST datasets, corresponding to Tables 1, 2 and 3 in the paper.\n",
    "\n",
    "For convenience, we provide the exact commands for Rotated MNIST dataset with training domains set to [15, 30, 45, 60, 75] and the test domains set to [0, 90]. \n",
    "\n",
    "To obtain results for the FashionMNIST dataset, change the dataset parameter `--dataset` from `rot_mnist` to `fashion_mnist`.\n",
    "\n",
    "To obtain results for the different set of training domains in the paper, change the input to the parameter `--train_domains` with the list of training domains: `--train_domains [30, 45]` or `--train_domains [30, 45, 60]`"
   ]
  },
  {
   "cell_type": "code",
   "execution_count": 1,
   "metadata": {},
   "outputs": [
    {
     "name": "stdout",
     "output_type": "stream",
     "text": [
      "/data/home/t-dimaha/RobustDG/robustdg\n"
     ]
    }
   ],
   "source": [
    "%cd ../../"
   ]
  },
  {
   "cell_type": "markdown",
   "metadata": {},
   "source": [
    "## Prepare Data\n",
    "\n",
    "From the directory `data/rot_mnist`, run"
   ]
  },
  {
   "cell_type": "code",
   "execution_count": 2,
   "metadata": {},
   "outputs": [],
   "source": [
    "%%bash\n",
    "cd data/rot_mnist\n",
    "python data_gen.py resnet18"
   ]
  },
  {
   "cell_type": "markdown",
   "metadata": {},
   "source": [
    "## Table 1\n",
    "Now move back to the root directory.\n",
    "\n",
    "* ERM: "
   ]
  },
  {
   "cell_type": "code",
   "execution_count": 3,
   "metadata": {},
   "outputs": [
    {
     "name": "stdout",
     "output_type": "stream",
     "text": [
      "<class 'torch.Tensor'> torch.Size([2000]) torch.Size([2000, 1, 28, 28])\n",
      "Source Domain  15\n",
      "Source Domain  30\n",
      "Source Domain  45\n",
      "Source Domain  60\n",
      "Source Domain  75\n",
      "Max Class Size:  167 0 0\n",
      "Max Class Size:  219 0 1\n",
      "Max Class Size:  182 0 2\n",
      "Max Class Size:  205 0 3\n",
      "Max Class Size:  193 0 4\n",
      "Max Class Size:  200 0 5\n",
      "Max Class Size:  187 0 6\n",
      "Max Class Size:  239 0 7\n",
      "Max Class Size:  220 0 8\n",
      "Max Class Size:  188 0 9\n",
      "torch.Size([10000, 224, 224]) torch.Size([10000]) (10000,)\n",
      "[2000, 2000, 2000, 2000, 2000]\n",
      "torch.Size([10000, 224, 224]) torch.Size([10000, 10]) torch.Size([10000, 5]) (10000,)\n",
      "<class 'torch.Tensor'> torch.Size([100]) torch.Size([100, 1, 28, 28])\n",
      "Source Domain  15\n",
      "Source Domain  30\n",
      "Source Domain  45\n",
      "Source Domain  60\n",
      "Source Domain  75\n",
      "torch.Size([500, 224, 224]) torch.Size([500]) (500,)\n",
      "[100, 100, 100, 100, 100]\n",
      "torch.Size([500, 224, 224]) torch.Size([500, 10]) torch.Size([500, 5]) (500,)\n",
      "<class 'torch.Tensor'> torch.Size([2000]) torch.Size([2000, 1, 28, 28])\n",
      "Source Domain  0\n",
      "Source Domain  90\n",
      "torch.Size([4000, 224, 224]) torch.Size([4000]) (4000,)\n",
      "[2000, 2000]\n",
      "torch.Size([4000, 224, 224]) torch.Size([4000, 10]) torch.Size([4000, 2]) (4000,)\n",
      "Train Domains, Domain Size, BaseDomainIdx, Total Domains:  ['15', '30', '45', '60', '75'] 5 2000 [2000, 2000, 2000, 2000, 2000]\n",
      "Model Architecture:  resnet18\n",
      "Base Domain:  167 0 0\n",
      "Base Domain:  219 0 1\n",
      "Base Domain:  182 0 2\n",
      "Base Domain:  205 0 3\n",
      "Base Domain:  193 0 4\n",
      "Base Domain:  200 0 5\n",
      "Base Domain:  187 0 6\n",
      "Base Domain:  239 0 7\n",
      "Base Domain:  220 0 8\n",
      "Base Domain:  188 0 9\n",
      "Total Label MisMatch across pairs:  0\n",
      "torch.Size([2000, 5, 1, 224, 224]) torch.Size([2000, 5, 1])\n",
      "Split Matched Data:  32 torch.Size([64, 5, 1, 224, 224]) 32\n",
      "Train Loss Basic :  62.14615762233734 234.93259289860725\n",
      "Train Acc Env :  30.810546875\n",
      "Done Training for epoch:  0\n",
      "Split Matched Data:  32 torch.Size([64, 5, 1, 224, 224]) 32\n",
      "Train Loss Basic :  32.83898091316223 951.3820343017578\n",
      "Train Acc Env :  72.265625\n",
      "Done Training for epoch:  1\n",
      "Split Matched Data:  32 torch.Size([64, 5, 1, 224, 224]) 32\n",
      "Train Loss Basic :  13.428904742002487 1459.0916748046875\n",
      "Train Acc Env :  90.576171875\n",
      "Done Training for epoch:  2\n",
      "Split Matched Data:  32 torch.Size([64, 5, 1, 224, 224]) 32\n",
      "Train Loss Basic :  7.375732123851776 1621.8863334655762\n",
      "Train Acc Env :  95.556640625\n",
      "Done Training for epoch:  3\n",
      "Split Matched Data:  32 torch.Size([64, 5, 1, 224, 224]) 32\n",
      "Train Loss Basic :  4.879077233374119 1686.8437194824219\n",
      "Train Acc Env :  95.947265625\n",
      "Done Training for epoch:  4\n",
      "Split Matched Data:  32 torch.Size([64, 5, 1, 224, 224]) 32\n",
      "Train Loss Basic :  3.408117711544037 1759.101905822754\n",
      "Train Acc Env :  97.65625\n",
      "Done Training for epoch:  5\n",
      "Split Matched Data:  32 torch.Size([64, 5, 1, 224, 224]) 32\n",
      "Train Loss Basic :  2.5669945664703846 1795.3070106506348\n",
      "Train Acc Env :  98.486328125\n",
      "Done Training for epoch:  6\n",
      "Split Matched Data:  32 torch.Size([64, 5, 1, 224, 224]) 32\n",
      "Train Loss Basic :  1.6542893797159195 1837.7524032592773\n",
      "Train Acc Env :  98.876953125\n",
      "Done Training for epoch:  7\n",
      "Split Matched Data:  32 torch.Size([64, 5, 1, 224, 224]) 32\n",
      "Train Loss Basic :  1.2572545390576124 1934.1642761230469\n",
      "Train Acc Env :  99.462890625\n",
      "Done Training for epoch:  8\n",
      "Split Matched Data:  32 torch.Size([64, 5, 1, 224, 224]) 32\n",
      "Train Loss Basic :  0.986717451363802 1965.283145904541\n",
      "Train Acc Env :  99.8046875\n",
      "Done Training for epoch:  9\n",
      "Split Matched Data:  32 torch.Size([64, 5, 1, 224, 224]) 32\n",
      "Train Loss Basic :  0.8341403715312481 2049.8170585632324\n",
      "Train Acc Env :  99.70703125\n",
      "Done Training for epoch:  10\n",
      "Split Matched Data:  32 torch.Size([64, 5, 1, 224, 224]) 32\n",
      "Train Loss Basic :  0.6747319549322128 2060.7881393432617\n",
      "Train Acc Env :  100.0\n",
      "Done Training for epoch:  11\n",
      "Split Matched Data:  32 torch.Size([64, 5, 1, 224, 224]) 32\n",
      "Train Loss Basic :  0.5032174857333302 2106.31685256958\n",
      "Train Acc Env :  99.951171875\n",
      "Done Training for epoch:  12\n",
      "Split Matched Data:  32 torch.Size([64, 5, 1, 224, 224]) 32\n",
      "Train Loss Basic :  0.3824326298199594 2092.2615127563477\n",
      "Train Acc Env :  100.0\n",
      "Done Training for epoch:  13\n",
      "Split Matched Data:  32 torch.Size([64, 5, 1, 224, 224]) 32\n",
      "Train Loss Basic :  0.35709418449550867 2108.5820121765137\n",
      "Train Acc Env :  99.90234375\n",
      "Done Training for epoch:  14\n",
      "<class 'torch.Tensor'> torch.Size([2000]) torch.Size([2000, 1, 28, 28])\n",
      "Source Domain  15\n",
      "Source Domain  30\n",
      "Source Domain  45\n",
      "Source Domain  60\n",
      "Source Domain  75\n",
      "Max Class Size:  184 0 0\n",
      "Max Class Size:  239 0 1\n",
      "Max Class Size:  164 0 2\n",
      "Max Class Size:  206 0 3\n",
      "Max Class Size:  202 0 4\n",
      "Max Class Size:  179 0 5\n",
      "Max Class Size:  196 0 6\n",
      "Max Class Size:  209 0 7\n",
      "Max Class Size:  209 0 8\n",
      "Max Class Size:  212 0 9\n",
      "torch.Size([10000, 224, 224]) torch.Size([10000]) (10000,)\n",
      "[2000, 2000, 2000, 2000, 2000]\n",
      "torch.Size([10000, 224, 224]) torch.Size([10000, 10]) torch.Size([10000, 5]) (10000,)\n",
      "<class 'torch.Tensor'> torch.Size([100]) torch.Size([100, 1, 28, 28])\n",
      "Source Domain  15\n",
      "Source Domain  30\n",
      "Source Domain  45\n",
      "Source Domain  60\n",
      "Source Domain  75\n",
      "torch.Size([500, 224, 224]) torch.Size([500]) (500,)\n",
      "[100, 100, 100, 100, 100]\n",
      "torch.Size([500, 224, 224]) torch.Size([500, 10]) torch.Size([500, 5]) (500,)\n",
      "<class 'torch.Tensor'> torch.Size([2000]) torch.Size([2000, 1, 28, 28])\n",
      "Source Domain  0\n",
      "Source Domain  90\n",
      "torch.Size([4000, 224, 224]) torch.Size([4000]) (4000,)\n",
      "[2000, 2000]\n",
      "torch.Size([4000, 224, 224]) torch.Size([4000, 10]) torch.Size([4000, 2]) (4000,)\n",
      "Train Domains, Domain Size, BaseDomainIdx, Total Domains:  ['15', '30', '45', '60', '75'] 5 2000 [2000, 2000, 2000, 2000, 2000]\n",
      "Model Architecture:  resnet18\n",
      "Base Domain:  184 0 0\n",
      "Base Domain:  239 0 1\n",
      "Base Domain:  164 0 2\n",
      "Base Domain:  206 0 3\n",
      "Base Domain:  202 0 4\n",
      "Base Domain:  179 0 5\n",
      "Base Domain:  196 0 6\n",
      "Base Domain:  209 0 7\n",
      "Base Domain:  209 0 8\n",
      "Base Domain:  212 0 9\n",
      "Total Label MisMatch across pairs:  0\n",
      "torch.Size([2000, 5, 1, 224, 224]) torch.Size([2000, 5, 1])\n",
      "Split Matched Data:  32 torch.Size([64, 5, 1, 224, 224]) 32\n",
      "Train Loss Basic :  62.05957889556885 236.96269819140434\n",
      "Train Acc Env :  30.37109375\n",
      "Done Training for epoch:  0\n",
      "Split Matched Data:  32 torch.Size([64, 5, 1, 224, 224]) 32\n",
      "Train Loss Basic :  35.21101552248001 1062.7890720367432\n",
      "Train Acc Env :  67.041015625\n",
      "Done Training for epoch:  1\n",
      "Split Matched Data:  32 torch.Size([64, 5, 1, 224, 224]) 32\n",
      "Train Loss Basic :  14.051949441432953 1549.8668403625488\n",
      "Train Acc Env :  89.84375\n",
      "Done Training for epoch:  2\n",
      "Split Matched Data:  32 torch.Size([64, 5, 1, 224, 224]) 32\n",
      "Train Loss Basic :  7.47010362893343 1701.529598236084\n",
      "Train Acc Env :  93.505859375\n",
      "Done Training for epoch:  3\n",
      "Split Matched Data:  32 torch.Size([64, 5, 1, 224, 224]) 32\n",
      "Train Loss Basic :  5.517547309398651 1755.0788803100586\n",
      "Train Acc Env :  95.751953125\n",
      "Done Training for epoch:  4\n",
      "Split Matched Data:  32 torch.Size([64, 5, 1, 224, 224]) 32\n",
      "Train Loss Basic :  3.66435144841671 1807.874656677246\n",
      "Train Acc Env :  97.705078125\n",
      "Done Training for epoch:  5\n",
      "Split Matched Data:  32 torch.Size([64, 5, 1, 224, 224]) 32\n",
      "Train Loss Basic :  2.8205564878880978 1859.8726806640625\n",
      "Train Acc Env :  97.802734375\n",
      "Done Training for epoch:  6\n",
      "Split Matched Data:  32 torch.Size([64, 5, 1, 224, 224]) 32\n",
      "Train Loss Basic :  2.223891995847225 1946.8203392028809\n",
      "Train Acc Env :  98.6328125\n",
      "Done Training for epoch:  7\n",
      "Split Matched Data:  32 torch.Size([64, 5, 1, 224, 224]) 32\n",
      "Train Loss Basic :  1.6123349498957396 1980.5128898620605\n",
      "Train Acc Env :  99.462890625\n",
      "Done Training for epoch:  8\n",
      "Split Matched Data:  32 torch.Size([64, 5, 1, 224, 224]) 32\n",
      "Train Loss Basic :  1.2837515864521265 2049.055103302002\n",
      "Train Acc Env :  99.365234375\n",
      "Done Training for epoch:  9\n",
      "Split Matched Data:  32 torch.Size([64, 5, 1, 224, 224]) 32\n",
      "Train Loss Basic :  0.9752965085208416 2117.5795364379883\n",
      "Train Acc Env :  99.70703125\n",
      "Done Training for epoch:  10\n",
      "Split Matched Data:  32 torch.Size([64, 5, 1, 224, 224]) 32\n",
      "Train Loss Basic :  0.7845219355076551 2113.8045921325684\n",
      "Train Acc Env :  99.755859375\n",
      "Done Training for epoch:  11\n",
      "Split Matched Data:  32 torch.Size([64, 5, 1, 224, 224]) 32\n",
      "Train Loss Basic :  0.5492181554436684 2177.689151763916\n",
      "Train Acc Env :  99.951171875\n",
      "Done Training for epoch:  12\n",
      "Split Matched Data:  32 torch.Size([64, 5, 1, 224, 224]) 32\n",
      "Train Loss Basic :  0.43786211078986526 2218.039192199707\n",
      "Train Acc Env :  100.0\n",
      "Done Training for epoch:  13\n",
      "Split Matched Data:  32 torch.Size([64, 5, 1, 224, 224]) 32\n",
      "Train Loss Basic :  0.3792360429652035 2260.1554412841797\n",
      "Train Acc Env :  99.951171875\n",
      "Done Training for epoch:  14\n",
      "<class 'torch.Tensor'> torch.Size([2000]) torch.Size([2000, 1, 28, 28])\n",
      "Source Domain  15\n",
      "Source Domain  30\n",
      "Source Domain  45\n",
      "Source Domain  60\n",
      "Source Domain  75\n",
      "Max Class Size:  187 0 0\n",
      "Max Class Size:  239 0 1\n",
      "Max Class Size:  210 0 2\n",
      "Max Class Size:  201 0 3\n",
      "Max Class Size:  185 0 4\n",
      "Max Class Size:  189 0 5\n",
      "Max Class Size:  214 0 6\n",
      "Max Class Size:  202 0 7\n",
      "Max Class Size:  156 0 8\n",
      "Max Class Size:  217 0 9\n",
      "torch.Size([10000, 224, 224]) torch.Size([10000]) (10000,)\n",
      "[2000, 2000, 2000, 2000, 2000]\n",
      "torch.Size([10000, 224, 224]) torch.Size([10000, 10]) torch.Size([10000, 5]) (10000,)\n",
      "<class 'torch.Tensor'> torch.Size([100]) torch.Size([100, 1, 28, 28])\n",
      "Source Domain  15\n",
      "Source Domain  30\n",
      "Source Domain  45\n",
      "Source Domain  60\n",
      "Source Domain  75\n",
      "torch.Size([500, 224, 224]) torch.Size([500]) (500,)\n",
      "[100, 100, 100, 100, 100]\n",
      "torch.Size([500, 224, 224]) torch.Size([500, 10]) torch.Size([500, 5]) (500,)\n",
      "<class 'torch.Tensor'> torch.Size([2000]) torch.Size([2000, 1, 28, 28])\n",
      "Source Domain  0\n",
      "Source Domain  90\n",
      "torch.Size([4000, 224, 224]) torch.Size([4000]) (4000,)\n",
      "[2000, 2000]\n",
      "torch.Size([4000, 224, 224]) torch.Size([4000, 10]) torch.Size([4000, 2]) (4000,)\n",
      "Train Domains, Domain Size, BaseDomainIdx, Total Domains:  ['15', '30', '45', '60', '75'] 5 2000 [2000, 2000, 2000, 2000, 2000]\n",
      "Model Architecture:  resnet18\n",
      "Base Domain:  187 0 0\n",
      "Base Domain:  239 0 1\n",
      "Base Domain:  210 0 2\n",
      "Base Domain:  201 0 3\n",
      "Base Domain:  185 0 4\n",
      "Base Domain:  189 0 5\n",
      "Base Domain:  214 0 6\n",
      "Base Domain:  202 0 7\n",
      "Base Domain:  156 0 8\n",
      "Base Domain:  217 0 9\n",
      "Total Label MisMatch across pairs:  0\n",
      "torch.Size([2000, 5, 1, 224, 224]) torch.Size([2000, 5, 1])\n",
      "Split Matched Data:  32 torch.Size([64, 5, 1, 224, 224]) 32\n",
      "Train Loss Basic :  62.350255727767944 271.9739503264427\n",
      "Train Acc Env :  29.8828125\n",
      "Done Training for epoch:  0\n",
      "Split Matched Data:  32 torch.Size([64, 5, 1, 224, 224]) 32\n",
      "Train Loss Basic :  32.701211512088776 974.6176071166992\n",
      "Train Acc Env :  69.775390625\n",
      "Done Training for epoch:  1\n",
      "Split Matched Data:  32 torch.Size([64, 5, 1, 224, 224]) 32\n",
      "Train Loss Basic :  12.489885598421097 1548.615894317627\n",
      "Train Acc Env :  90.576171875\n",
      "Done Training for epoch:  2\n",
      "Split Matched Data:  32 torch.Size([64, 5, 1, 224, 224]) 32\n",
      "Train Loss Basic :  6.728123813867569 1672.1221656799316\n",
      "Train Acc Env :  95.263671875\n",
      "Done Training for epoch:  3\n",
      "Split Matched Data:  32 torch.Size([64, 5, 1, 224, 224]) 32\n",
      "Train Loss Basic :  4.3710451647639275 1760.3373413085938\n",
      "Train Acc Env :  96.630859375\n",
      "Done Training for epoch:  4\n",
      "Split Matched Data:  32 torch.Size([64, 5, 1, 224, 224]) 32\n",
      "Train Loss Basic :  3.006893340498209 1826.4428672790527\n",
      "Train Acc Env :  98.486328125\n",
      "Done Training for epoch:  5\n",
      "Split Matched Data:  32 torch.Size([64, 5, 1, 224, 224]) 32\n",
      "Train Loss Basic :  2.1617823466658592 1887.7817001342773\n",
      "Train Acc Env :  98.583984375\n",
      "Done Training for epoch:  6\n",
      "Split Matched Data:  32 torch.Size([64, 5, 1, 224, 224]) 32\n",
      "Train Loss Basic :  1.6335208099335432 1978.1428260803223\n",
      "Train Acc Env :  99.21875\n",
      "Done Training for epoch:  7\n",
      "Split Matched Data:  32 torch.Size([64, 5, 1, 224, 224]) 32\n",
      "Train Loss Basic :  1.373703669756651 2074.2139739990234\n",
      "Train Acc Env :  99.51171875\n",
      "Done Training for epoch:  8\n",
      "Split Matched Data:  32 torch.Size([64, 5, 1, 224, 224]) 32\n",
      "Train Loss Basic :  1.0859087333083153 2103.774387359619\n",
      "Train Acc Env :  99.70703125\n",
      "Done Training for epoch:  9\n",
      "Split Matched Data:  32 torch.Size([64, 5, 1, 224, 224]) 32\n",
      "Train Loss Basic :  0.825765342451632 2192.965171813965\n",
      "Train Acc Env :  99.51171875\n",
      "Done Training for epoch:  10\n",
      "Split Matched Data:  32 torch.Size([64, 5, 1, 224, 224]) 32\n",
      "Train Loss Basic :  0.5627848962321877 2170.535961151123\n",
      "Train Acc Env :  99.951171875\n",
      "Done Training for epoch:  11\n",
      "Split Matched Data:  32 torch.Size([64, 5, 1, 224, 224]) 32\n",
      "Train Loss Basic :  0.6280146227218211 2189.946907043457\n",
      "Train Acc Env :  99.90234375\n",
      "Done Training for epoch:  12\n",
      "Split Matched Data:  32 torch.Size([64, 5, 1, 224, 224]) 32\n",
      "Train Loss Basic :  0.8892635656520724 2304.3117485046387\n",
      "Train Acc Env :  99.658203125\n",
      "Done Training for epoch:  13\n",
      "Split Matched Data:  32 torch.Size([64, 5, 1, 224, 224]) 32\n",
      "Train Loss Basic :  0.35654407227411866 2228.2694664001465\n",
      "Train Acc Env :  99.951171875\n",
      "Done Training for epoch:  14\n",
      "\n",
      "\n",
      "Done for the Model..\n",
      "Final Test Accuracy nan nan\n",
      "\n",
      "\n"
     ]
    },
    {
     "name": "stderr",
     "output_type": "stream",
     "text": [
      "/data/anaconda/envs/py35/lib/python3.5/site-packages/numpy/core/fromnumeric.py:3257: RuntimeWarning: Mean of empty slice.\n",
      "  out=out, **kwargs)\n",
      "/data/anaconda/envs/py35/lib/python3.5/site-packages/numpy/core/_methods.py:161: RuntimeWarning: invalid value encountered in double_scalars\n",
      "  ret = ret.dtype.type(ret / rcount)\n",
      "/data/anaconda/envs/py35/lib/python3.5/site-packages/numpy/core/_methods.py:217: RuntimeWarning: Degrees of freedom <= 0 for slice\n",
      "  keepdims=keepdims)\n",
      "/data/anaconda/envs/py35/lib/python3.5/site-packages/numpy/core/_methods.py:186: RuntimeWarning: invalid value encountered in true_divide\n",
      "  arrmean, rcount, out=arrmean, casting='unsafe', subok=False)\n",
      "/data/anaconda/envs/py35/lib/python3.5/site-packages/numpy/core/_methods.py:209: RuntimeWarning: invalid value encountered in double_scalars\n",
      "  ret = ret.dtype.type(ret / rcount)\n"
     ]
    }
   ],
   "source": [
    "%%bash\n",
    "python train.py --dataset rot_mnist --method_name erm_match --match_case 0.01 --penalty_ws 0.0"
   ]
  },
  {
   "cell_type": "markdown",
   "metadata": {},
   "source": [
    "* ERM_RandomMatch:"
   ]
  },
  {
   "cell_type": "code",
   "execution_count": null,
   "metadata": {},
   "outputs": [],
   "source": [
    "%%bash\n",
    "python train.py --dataset rot_mnist --method_name erm_match --match_case 0.01 --penalty_ws 0.1"
   ]
  },
  {
   "cell_type": "markdown",
   "metadata": {},
   "source": [
    "* ERM_PerfectMatch:"
   ]
  },
  {
   "cell_type": "code",
   "execution_count": null,
   "metadata": {},
   "outputs": [],
   "source": [
    "%%bash\n",
    "python train.py --dataset rot_mnist --method_name erm_match --match_case 1.0 --penalty_ws 0.1"
   ]
  },
  {
   "cell_type": "markdown",
   "metadata": {},
   "source": [
    "* MatchDG:"
   ]
  },
  {
   "cell_type": "code",
   "execution_count": 7,
   "metadata": {},
   "outputs": [
    {
     "name": "stdout",
     "output_type": "stream",
     "text": [
      "Process is terminated.\n"
     ]
    }
   ],
   "source": [
    "%%bash\n",
    "python train.py --dataset rot_mnist --method_name matchdg_ctr --match_case 0.01\n",
    "#python train.py --dataset rot_mnist --method_name matchdg_erm --penalty_ws 0.1"
   ]
  },
  {
   "cell_type": "markdown",
   "metadata": {},
   "source": [
    "## Table 2\n",
    "\n",
    "* ERM: "
   ]
  },
  {
   "cell_type": "code",
   "execution_count": null,
   "metadata": {},
   "outputs": [],
   "source": [
    "%%bash\n",
    "python eval.py --dataset rot_mnist --method_name erm_match --match_case 0.01 --penalty_ws 0.0 --test_metric match_score "
   ]
  },
  {
   "cell_type": "markdown",
   "metadata": {},
   "source": [
    "* MatchDG (Default):"
   ]
  },
  {
   "cell_type": "code",
   "execution_count": null,
   "metadata": {},
   "outputs": [],
   "source": [
    "%%bash\n",
    "python eval.py --dataset rot_mnist --method_name matchdg_ctr --match_case 0.01 --test_metric match_score"
   ]
  },
  {
   "cell_type": "markdown",
   "metadata": {},
   "source": [
    "* MatchDG (PerfMatch):"
   ]
  },
  {
   "cell_type": "code",
   "execution_count": null,
   "metadata": {},
   "outputs": [],
   "source": [
    "%%bash\n",
    "python eval.py --dataset rot_mnist --method_name matchdg_ctr --match_case 0.01 --test_metric match_score"
   ]
  },
  {
   "cell_type": "markdown",
   "metadata": {},
   "source": [
    "## Table 3"
   ]
  },
  {
   "cell_type": "markdown",
   "metadata": {},
   "source": [
    "## Table 3\n",
    "\n",
    "* Approx 25:"
   ]
  },
  {
   "cell_type": "code",
   "execution_count": null,
   "metadata": {},
   "outputs": [],
   "source": [
    "%%bash\n",
    "python train.py --dataset rot_mnist --method_name erm_match --match_case 0.25 --penalty_ws 0.1"
   ]
  },
  {
   "cell_type": "markdown",
   "metadata": {},
   "source": [
    "* Approx 50:"
   ]
  },
  {
   "cell_type": "code",
   "execution_count": null,
   "metadata": {},
   "outputs": [],
   "source": [
    "%%bash\n",
    "python train.py --dataset rot_mnist --method_name erm_match --match_case 0.50 --penalty_ws 0.1"
   ]
  },
  {
   "cell_type": "markdown",
   "metadata": {},
   "source": [
    "* Approx 75:"
   ]
  },
  {
   "cell_type": "code",
   "execution_count": null,
   "metadata": {},
   "outputs": [],
   "source": [
    "%%bash\n",
    "python train.py --dataset rot_mnist --method_name erm_match --match_case 0.75 --penalty_ws 0.1"
   ]
  }
 ],
 "metadata": {
  "kernelspec": {
   "display_name": "Python 3.5",
   "language": "python",
   "name": "python3"
  },
  "language_info": {
   "codemirror_mode": {
    "name": "ipython",
    "version": 3
   },
   "file_extension": ".py",
   "mimetype": "text/x-python",
   "name": "python",
   "nbconvert_exporter": "python",
   "pygments_lexer": "ipython3",
   "version": "3.5.6"
  }
 },
 "nbformat": 4,
 "nbformat_minor": 4
}
